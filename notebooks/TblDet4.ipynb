{
 "cells": [
  {
   "cell_type": "code",
   "execution_count": 1,
   "metadata": {},
   "outputs": [
    {
     "name": "stdout",
     "output_type": "stream",
     "text": [
      "/Users/eliaweiss/ai/segmentation/MobileSAM\n"
     ]
    }
   ],
   "source": [
    "%cd ..\n"
   ]
  },
  {
   "cell_type": "code",
   "execution_count": 2,
   "metadata": {},
   "outputs": [
    {
     "name": "stderr",
     "output_type": "stream",
     "text": [
      "/Users/eliaweiss/ai/segmentation/MobileSAM/tinyvit/tiny_vit.py:656: UserWarning: Overwriting tiny_vit_5m_224 in registry with tinyvit.tiny_vit.tiny_vit_5m_224. This is because the name being registered conflicts with an existing name. Please check if this is not expected.\n",
      "  return register_model(fn_wrapper)\n",
      "/Users/eliaweiss/ai/segmentation/MobileSAM/tinyvit/tiny_vit.py:656: UserWarning: Overwriting tiny_vit_11m_224 in registry with tinyvit.tiny_vit.tiny_vit_11m_224. This is because the name being registered conflicts with an existing name. Please check if this is not expected.\n",
      "  return register_model(fn_wrapper)\n",
      "/Users/eliaweiss/ai/segmentation/MobileSAM/tinyvit/tiny_vit.py:656: UserWarning: Overwriting tiny_vit_21m_224 in registry with tinyvit.tiny_vit.tiny_vit_21m_224. This is because the name being registered conflicts with an existing name. Please check if this is not expected.\n",
      "  return register_model(fn_wrapper)\n",
      "/Users/eliaweiss/ai/segmentation/MobileSAM/tinyvit/tiny_vit.py:656: UserWarning: Overwriting tiny_vit_21m_384 in registry with tinyvit.tiny_vit.tiny_vit_21m_384. This is because the name being registered conflicts with an existing name. Please check if this is not expected.\n",
      "  return register_model(fn_wrapper)\n",
      "/Users/eliaweiss/ai/segmentation/MobileSAM/tinyvit/tiny_vit.py:656: UserWarning: Overwriting tiny_vit_21m_512 in registry with tinyvit.tiny_vit.tiny_vit_21m_512. This is because the name being registered conflicts with an existing name. Please check if this is not expected.\n",
      "  return register_model(fn_wrapper)\n"
     ]
    }
   ],
   "source": [
    "import numpy as np\n",
    "from tblDetect.TableDetect import TableDetect\n",
    "from tblDetect.MobileSamBoxes import MobileSamBoxes\n",
    "import matplotlib.pyplot as plt\n",
    "from PIL import Image\n",
    "from notebooks.Utils import plot_results, plot_annotations,plot_rotatedResult,applyRotatedResult\n",
    "from tblDetect.AlignTable_Processor import AlignTable_Processor\n",
    "from tblDetect.TblStructureDetect import TblStructureDetect"
   ]
  },
  {
   "cell_type": "code",
   "execution_count": 3,
   "metadata": {},
   "outputs": [
    {
     "name": "stdout",
     "output_type": "stream",
     "text": [
      "checkpoint_load_scucess\n"
     ]
    }
   ],
   "source": [
    "# init detectors\n",
    "tblDec = TableDetect()\n",
    "sam = MobileSamBoxes()\n",
    "tblStructDetect = TblStructureDetect()       "
   ]
  },
  {
   "cell_type": "code",
   "execution_count": 13,
   "metadata": {},
   "outputs": [],
   "source": [
    "file_list = [\"/Users/eliaweiss/Documents/doc2txt/invoices 2/expense (6).jpeg\", \n",
    "              \"/Users/eliaweiss/Documents/doc2txt/sihach/attachments/img/20231025012642_001.jpg\",\n",
    "              \"/Users/eliaweiss/Documents/doc2txt/sihach/need fix/4e7d4235deff4ee2b72d886e12ad0bcf.jpg\"]"
   ]
  },
  {
   "cell_type": "code",
   "execution_count": 25,
   "metadata": {},
   "outputs": [],
   "source": [
    "import os\n",
    "folder = \"/Users/eliaweiss/Documents/doc2txt/lineCv/1\"\n",
    "file_list = os.listdir(folder)\n",
    "file_list = [file for file in file_list if \n",
    "             \".jpg\" in file \n",
    "             or \".png\" in file \n",
    "             or \".jpeg\" in file]"
   ]
  },
  {
   "cell_type": "code",
   "execution_count": 26,
   "metadata": {},
   "outputs": [],
   "source": [
    "fileIter = iter(file_list)"
   ]
  },
  {
   "cell_type": "markdown",
   "metadata": {},
   "source": [
    "# align table"
   ]
  },
  {
   "cell_type": "code",
   "execution_count": 31,
   "metadata": {},
   "outputs": [
    {
     "name": "stdout",
     "output_type": "stream",
     "text": [
      "/Users/eliaweiss/Documents/doc2txt/lineCv/1/50.jpeg\n",
      "shape (1980, 1530, 3)\n"
     ]
    }
   ],
   "source": [
    "import cv2\n",
    "while True:\n",
    "    file_path = next(fileIter)\n",
    "    file_path = os.path.join(folder, file_path)\n",
    "    print(file_path)\n",
    "\n",
    "    img = Image.open(file_path)\n",
    "\n",
    "    # detect table\n",
    "    _, boxes = tblDec.detectTables(img)\n",
    "    if len(boxes):\n",
    "        # find table mask\n",
    "        anns = sam.process(img,boxes)\n",
    "    else:\n",
    "        print(\"no tbl found!\")\n",
    "        anns = []\n",
    "    \n",
    "\n",
    "    tmpImg = np.array(img)\n",
    "\n",
    "    for ann in anns:\n",
    "        alignTable_processor = AlignTable_Processor(img, ann)\n",
    "        tbl_patch_pil = alignTable_processor.getAlignTable()\n",
    "        cells = tblStructDetect.detectTableStructure(tbl_patch_pil)\n",
    "        rotated_cells =  alignTable_processor.unRotateAllCell(cells)\n",
    "        applyRotatedResult(tmpImg, rotated_cells)\n",
    "    \n",
    "    cv2.imshow(\"tmpImg\",tmpImg)\n",
    "    cv2.waitKey()\n",
    "    \n",
    "\n",
    "# pil_img = Image.fromarray(tmpImg)\n",
    "# plt.figure(figsize=(16,10))\n",
    "# plt.imshow(pil_img)\n",
    "# plt.axis('off')\n",
    "# plt.show() "
   ]
  },
  {
   "cell_type": "code",
   "execution_count": 29,
   "metadata": {},
   "outputs": [
    {
     "data": {
      "text/plain": [
       "0"
      ]
     },
     "execution_count": 29,
     "metadata": {},
     "output_type": "execute_result"
    }
   ],
   "source": [
    "len(boxes)\n"
   ]
  },
  {
   "cell_type": "code",
   "execution_count": null,
   "metadata": {},
   "outputs": [],
   "source": []
  }
 ],
 "metadata": {
  "kernelspec": {
   "display_name": "mobileSam",
   "language": "python",
   "name": "python3"
  },
  "language_info": {
   "codemirror_mode": {
    "name": "ipython",
    "version": 3
   },
   "file_extension": ".py",
   "mimetype": "text/x-python",
   "name": "python",
   "nbconvert_exporter": "python",
   "pygments_lexer": "ipython3",
   "version": "3.10.13"
  }
 },
 "nbformat": 4,
 "nbformat_minor": 2
}
