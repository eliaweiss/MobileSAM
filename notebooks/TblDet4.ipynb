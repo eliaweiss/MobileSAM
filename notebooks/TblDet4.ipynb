{
 "cells": [
  {
   "cell_type": "code",
   "execution_count": 1,
   "metadata": {},
   "outputs": [
    {
     "name": "stdout",
     "output_type": "stream",
     "text": [
      "/Users/eliaweiss/ai/segmentation/MobileSAM\n"
     ]
    }
   ],
   "source": [
    "%cd ..\n"
   ]
  },
  {
   "cell_type": "code",
   "execution_count": 2,
   "metadata": {},
   "outputs": [
    {
     "name": "stderr",
     "output_type": "stream",
     "text": [
      "/Users/eliaweiss/ai/segmentation/MobileSAM/tinyvit/tiny_vit.py:656: UserWarning: Overwriting tiny_vit_5m_224 in registry with tinyvit.tiny_vit.tiny_vit_5m_224. This is because the name being registered conflicts with an existing name. Please check if this is not expected.\n",
      "  return register_model(fn_wrapper)\n",
      "/Users/eliaweiss/ai/segmentation/MobileSAM/tinyvit/tiny_vit.py:656: UserWarning: Overwriting tiny_vit_11m_224 in registry with tinyvit.tiny_vit.tiny_vit_11m_224. This is because the name being registered conflicts with an existing name. Please check if this is not expected.\n",
      "  return register_model(fn_wrapper)\n",
      "/Users/eliaweiss/ai/segmentation/MobileSAM/tinyvit/tiny_vit.py:656: UserWarning: Overwriting tiny_vit_21m_224 in registry with tinyvit.tiny_vit.tiny_vit_21m_224. This is because the name being registered conflicts with an existing name. Please check if this is not expected.\n",
      "  return register_model(fn_wrapper)\n",
      "/Users/eliaweiss/ai/segmentation/MobileSAM/tinyvit/tiny_vit.py:656: UserWarning: Overwriting tiny_vit_21m_384 in registry with tinyvit.tiny_vit.tiny_vit_21m_384. This is because the name being registered conflicts with an existing name. Please check if this is not expected.\n",
      "  return register_model(fn_wrapper)\n",
      "/Users/eliaweiss/ai/segmentation/MobileSAM/tinyvit/tiny_vit.py:656: UserWarning: Overwriting tiny_vit_21m_512 in registry with tinyvit.tiny_vit.tiny_vit_21m_512. This is because the name being registered conflicts with an existing name. Please check if this is not expected.\n",
      "  return register_model(fn_wrapper)\n"
     ]
    }
   ],
   "source": [
    "import numpy as np\n",
    "from tblDetect.TableDetect import TableDetect\n",
    "from tblDetect.MobileSamBoxes import MobileSamBoxes\n",
    "import matplotlib.pyplot as plt\n",
    "from PIL import Image\n",
    "from notebooks.Utils import plot_results, plot_annotations,plot_rotatedResult,applyRotatedResult\n",
    "from tblDetect.AlignTable_Processor import AlignTable_Processor\n",
    "from tblDetect.TblStructureDetect import TblStructureDetect"
   ]
  },
  {
   "cell_type": "code",
   "execution_count": 3,
   "metadata": {},
   "outputs": [
    {
     "name": "stdout",
     "output_type": "stream",
     "text": [
      "checkpoint_load_scucess\n"
     ]
    }
   ],
   "source": [
    "# init detectors\n",
    "tblDec = TableDetect()\n",
    "sam = MobileSamBoxes()\n",
    "tblStructDetect = TblStructureDetect()       "
   ]
  },
  {
   "cell_type": "code",
   "execution_count": 4,
   "metadata": {},
   "outputs": [],
   "source": [
    "file_list = [\"/Users/eliaweiss/Documents/doc2txt/invoices 2/expense (6).jpeg\", \n",
    "              \"/Users/eliaweiss/Documents/doc2txt/sihach/attachments/img/20231025012642_001.jpg\",\n",
    "              \"/Users/eliaweiss/Documents/doc2txt/sihach/need fix/4e7d4235deff4ee2b72d886e12ad0bcf.jpg\"]"
   ]
  },
  {
   "cell_type": "code",
   "execution_count": 5,
   "metadata": {},
   "outputs": [],
   "source": [
    "import os\n",
    "folder = \"/Users/eliaweiss/Documents/doc2txt/lineCv/1\"\n",
    "file_list = os.listdir(folder)\n",
    "file_list = [file for file in file_list if \n",
    "             \".jpg\" in file \n",
    "             or \".png\" in file \n",
    "             or \".jpeg\" in file]\n"
   ]
  },
  {
   "cell_type": "code",
   "execution_count": 6,
   "metadata": {},
   "outputs": [],
   "source": [
    "fileIter = iter(file_list)\n",
    "cc = 0"
   ]
  },
  {
   "cell_type": "markdown",
   "metadata": {},
   "source": [
    "# align table"
   ]
  },
  {
   "cell_type": "code",
   "execution_count": 7,
   "metadata": {},
   "outputs": [
    {
     "name": "stdout",
     "output_type": "stream",
     "text": [
      "18\n",
      "/Users/eliaweiss/Documents/doc2txt/lineCv/1/13.png\n",
      "shape (1500, 1060, 3)\n",
      "------ total time: (s): 1.59\n",
      "self.hog_shape (153, 928)\n",
      "self.main_shape (153, 928)\n",
      "final lines: 1\n"
     ]
    }
   ],
   "source": [
    "import cv2\n",
    "\n",
    "while True:\n",
    "    file_path = next(fileIter)\n",
    "    cc+=1    \n",
    "    if cc < 18:\n",
    "        continue\n",
    "    print(cc)\n",
    "    \n",
    "    file_path = os.path.join(folder, file_path)\n",
    "    print(file_path)\n",
    "\n",
    "    img = Image.open(file_path)\n",
    "    # Resize the image\n",
    "    img.thumbnail((1500, 1500))\n",
    "    # detect table\n",
    "    probas, boxes = tblDec.detectTables(img)\n",
    "    if len(boxes):\n",
    "        # find table mask\n",
    "        anns = sam.process(img,boxes)\n",
    "    else:\n",
    "        print(\"no tbl found!\")\n",
    "        anns = []\n",
    "    \n",
    "\n",
    "    tmpImg = np.array(img)\n",
    "\n",
    "    for ann in anns:\n",
    "        alignTable_processor = AlignTable_Processor(img, ann)\n",
    "        tbl_patch_pil = alignTable_processor.getAlignTable()\n",
    "        cells = tblStructDetect.detectTableStructure(tbl_patch_pil)\n",
    "        rotated_cells =  alignTable_processor.unRotateAllCell(cells)\n",
    "        applyRotatedResult(tmpImg, rotated_cells)\n",
    "    \n",
    "    cv2.imshow(\"tmpImg\",tmpImg)\n",
    "    cv2.waitKey()\n",
    "    \n",
    "\n",
    "# pil_img = Image.fromarray(tmpImg)\n",
    "# plt.figure(figsize=(16,10))\n",
    "# plt.imshow(pil_img)\n",
    "# plt.axis('off')\n",
    "# plt.show() "
   ]
  },
  {
   "cell_type": "code",
   "execution_count": null,
   "metadata": {},
   "outputs": [],
   "source": [
    "def applyLineSegment(mask, line, color=255):\n",
    "    for i, ls in enumerate(line):\n",
    "        left, bottom, right, top = ls.boundingBox\n",
    "        if ls.patch is not None:\n",
    "            for y in range(bottom, top):\n",
    "                for x in range(left, right):\n",
    "                    if ls.patch[y-bottom, x-left] > 0:\n",
    "                        mask[y, x] = color\n",
    "        elif ls.patch is None:\n",
    "            mask[bottom:top, left:right] = color"
   ]
  },
  {
   "cell_type": "code",
   "execution_count": null,
   "metadata": {},
   "outputs": [],
   "source": [
    "mask = np.zeros(alignTable_processor.cvProcessor.imgZv.hog_shape, np.uint8)\n",
    "for line in alignTable_processor.lines[:5]:\n",
    "    print(len(line), type(line.parentLine))\n",
    "    applyLineSegment(mask, line, color=(255))\n",
    "    \n",
    "Image.fromarray(mask)  "
   ]
  },
  {
   "cell_type": "code",
   "execution_count": null,
   "metadata": {},
   "outputs": [],
   "source": [
    "probas, boxes = tblDec.detectTables(img)\n",
    "\n",
    "plot_results(tblDec.model, img, probas, boxes)\n"
   ]
  },
  {
   "cell_type": "code",
   "execution_count": null,
   "metadata": {},
   "outputs": [],
   "source": [
    "plot_annotations(img, anns)"
   ]
  },
  {
   "cell_type": "code",
   "execution_count": null,
   "metadata": {},
   "outputs": [],
   "source": []
  }
 ],
 "metadata": {
  "kernelspec": {
   "display_name": "mobileSam",
   "language": "python",
   "name": "python3"
  },
  "language_info": {
   "codemirror_mode": {
    "name": "ipython",
    "version": 3
   },
   "file_extension": ".py",
   "mimetype": "text/x-python",
   "name": "python",
   "nbconvert_exporter": "python",
   "pygments_lexer": "ipython3",
   "version": "3.10.13"
  }
 },
 "nbformat": 4,
 "nbformat_minor": 2
}
