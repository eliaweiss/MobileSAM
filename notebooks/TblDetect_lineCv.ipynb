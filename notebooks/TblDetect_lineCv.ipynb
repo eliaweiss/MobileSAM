{
 "cells": [
  {
   "cell_type": "code",
   "execution_count": 1,
   "metadata": {},
   "outputs": [
    {
     "name": "stdout",
     "output_type": "stream",
     "text": [
      "self.hog_shape (1440, 1024)\n",
      "self.main_shape (1500, 1059)\n",
      "final lines: 93\n"
     ]
    }
   ],
   "source": [
    "from lineVision.lineCv.processor.Cv_Line_Processor import Cv_Line_Processor\n",
    "from lineVision.DocumentBbZv import DocumentBBZv\n",
    "\n",
    "import cv2\n",
    "imgPath = \"/Users/eliaweiss/Documents/doc2txt/lineCv/1/2.png\"\n",
    "image = cv2.imread(imgPath)\n",
    "documentBBZv = DocumentBBZv(image)\n",
    "cvProcessor = Cv_Line_Processor(\n",
    "    documentBBZv=documentBBZv,\n",
    "    )   \n",
    "cvProcessor.process() "
   ]
  }
 ],
 "metadata": {
  "kernelspec": {
   "display_name": "mobileSam",
   "language": "python",
   "name": "python3"
  },
  "language_info": {
   "codemirror_mode": {
    "name": "ipython",
    "version": 3
   },
   "file_extension": ".py",
   "mimetype": "text/x-python",
   "name": "python",
   "nbconvert_exporter": "python",
   "pygments_lexer": "ipython3",
   "version": "3.10.13"
  }
 },
 "nbformat": 4,
 "nbformat_minor": 2
}
