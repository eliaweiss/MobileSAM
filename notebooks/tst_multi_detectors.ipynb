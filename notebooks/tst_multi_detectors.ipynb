{
 "cells": [
  {
   "cell_type": "code",
   "execution_count": 1,
   "metadata": {},
   "outputs": [
    {
     "name": "stdout",
     "output_type": "stream",
     "text": [
      "/Users/eliaweiss/ai/segmentation/MobileSAM\n"
     ]
    }
   ],
   "source": [
    "%cd ..\n",
    "    \n"
   ]
  },
  {
   "cell_type": "markdown",
   "metadata": {},
   "source": []
  },
  {
   "cell_type": "code",
   "execution_count": 2,
   "metadata": {},
   "outputs": [
    {
     "name": "stderr",
     "output_type": "stream",
     "text": [
      "04/23/2024 17:14:13 - INFO - timm.models._builder -   Loading pretrained weights from Hugging Face hub (timm/resnet50.a1_in1k)\n",
      "04/23/2024 17:14:13 - INFO - timm.models._hub -   [timm/resnet50.a1_in1k] Safe alternative available for 'pytorch_model.bin' (as 'model.safetensors'). Loading weights using safetensors.\n",
      "Some weights of the model checkpoint at TahaDouaji/detr-doc-table-detection were not used when initializing DetrForObjectDetection: ['model.backbone.conv_encoder.model.layer1.0.downsample.1.num_batches_tracked', 'model.backbone.conv_encoder.model.layer2.0.downsample.1.num_batches_tracked', 'model.backbone.conv_encoder.model.layer3.0.downsample.1.num_batches_tracked', 'model.backbone.conv_encoder.model.layer4.0.downsample.1.num_batches_tracked']\n",
      "- This IS expected if you are initializing DetrForObjectDetection from the checkpoint of a model trained on another task or with another architecture (e.g. initializing a BertForSequenceClassification model from a BertForPreTraining model).\n",
      "- This IS NOT expected if you are initializing DetrForObjectDetection from the checkpoint of a model that you expect to be exactly identical (initializing a BertForSequenceClassification model from a BertForSequenceClassification model).\n"
     ]
    }
   ],
   "source": [
    "from notebooks.Utils import non_max_suppression\n",
    "from notebooks.Utils import create_random_color\n",
    "from flaskUtil.MultiDetectors import MultiDetectors\n",
    "import cv2\n",
    "import numpy as np\n",
    "font = cv2.FONT_HERSHEY_SIMPLEX \n",
    "\n",
    "from PIL import Image, ExifTags\n"
   ]
  },
  {
   "cell_type": "code",
   "execution_count": 3,
   "metadata": {},
   "outputs": [],
   "source": [
    "import os\n",
    "folder = \"/Users/eliaweiss/Documents/doc2txt/lineCv/1\"\n",
    "# folder = \"/Users/eliaweiss/Documents/doc2txt/sihach/Invoices/3/img3\"\n",
    "file_list = os.listdir(folder)\n",
    "file_list = [file for file in file_list if \n",
    "             \".jpg\" in file \n",
    "             or \".png\" in file \n",
    "             or \".jpeg\" in file]\n",
    "file_list = sorted(file_list, key=lambda x: int(\n",
    "    os.path.splitext(os.path.basename(x))[0]))"
   ]
  },
  {
   "cell_type": "code",
   "execution_count": 4,
   "metadata": {},
   "outputs": [],
   "source": [
    "fileIter = iter(file_list)\n",
    "cc = 0"
   ]
  },
  {
   "cell_type": "code",
   "execution_count": 5,
   "metadata": {},
   "outputs": [
    {
     "name": "stdout",
     "output_type": "stream",
     "text": [
      "1\n",
      "/Users/eliaweiss/Documents/doc2txt/lineCv/1/0.jpg\n",
      "\n",
      "0: 640x480 (no detections), 642.8ms\n",
      "Speed: 1.9ms preprocess, 642.8ms inference, 0.7ms postprocess per image at shape (1, 3, 640, 480)\n"
     ]
    },
    {
     "name": "stderr",
     "output_type": "stream",
     "text": [
      "[W NNPACK.cpp:64] Could not initialize NNPACK! Reason: Unsupported hardware.\n"
     ]
    },
    {
     "name": "stdout",
     "output_type": "stream",
     "text": [
      "prob:  10\n",
      "prob:  33\n",
      "prob:  11\n",
      "prob:  32\n",
      "prob:  24\n",
      "prob:  51\n",
      "prob:  95\n",
      "prob:  10\n",
      "prob:  21\n",
      "prob:  66\n"
     ]
    },
    {
     "ename": "KeyboardInterrupt",
     "evalue": "",
     "output_type": "error",
     "traceback": [
      "\u001b[0;31m---------------------------------------------------------------------------\u001b[0m",
      "\u001b[0;31mKeyboardInterrupt\u001b[0m                         Traceback (most recent call last)",
      "Cell \u001b[0;32mIn[5], line 33\u001b[0m\n\u001b[1;32m     30\u001b[0m     tmpImg1 \u001b[38;5;241m=\u001b[39m cv2\u001b[38;5;241m.\u001b[39mputText(tmpImg1, score, (l,t), font,  \n\u001b[1;32m     31\u001b[0m                     fontScale, color, drawWidth) \n\u001b[1;32m     32\u001b[0m cv2\u001b[38;5;241m.\u001b[39mimshow(\u001b[38;5;124m\"\u001b[39m\u001b[38;5;124mnms\u001b[39m\u001b[38;5;124m\"\u001b[39m,tmpImg1)    \n\u001b[0;32m---> 33\u001b[0m \u001b[43mcv2\u001b[49m\u001b[38;5;241;43m.\u001b[39;49m\u001b[43mwaitKey\u001b[49m\u001b[43m(\u001b[49m\u001b[43m)\u001b[49m\n",
      "\u001b[0;31mKeyboardInterrupt\u001b[0m: "
     ]
    }
   ],
   "source": [
    "\n",
    "\n",
    "\n",
    "while True:\n",
    "    file_path = next(fileIter)\n",
    "    if cc < 0:\n",
    "        cc+=1    \n",
    "        continue\n",
    "    cc+=1    \n",
    "    \n",
    "    print(cc)\n",
    "    \n",
    "    file_path = os.path.join(folder, file_path)\n",
    "    print(file_path)\n",
    "\n",
    "    image = Image.open(file_path)\n",
    "    scores, boxes = MultiDetectors.multiDetector(image)\n",
    " \n",
    "    tmpImg1 = np.array(image)    \n",
    "    tmpImg1 = cv2.cvtColor(tmpImg1, cv2.COLOR_BGR2RGB)\n",
    "    drawWidth = int(2 * tmpImg1.shape[0]*0.001)\n",
    "    \n",
    "    for score, box in zip(scores, boxes):\n",
    "        box = [int(i) for i in box]\n",
    "        score = f\"{int(score*100)}\"\n",
    "        print(\"prob: \",score)\n",
    "        l,b,r,t = box\n",
    "        color = create_random_color()\n",
    "        cv2.rectangle(tmpImg1,(l,t),(r,b),color,drawWidth)\n",
    "   \n",
    "        # Using cv2.putText() method \n",
    "        fontScale = drawWidth/2\n",
    "        tmpImg1 = cv2.putText(tmpImg1, score, (l,t), font,  \n",
    "                        fontScale, color, drawWidth) \n",
    "    cv2.imshow(\"nms\",tmpImg1)    \n",
    "    cv2.waitKey()\n",
    "    "
   ]
  }
 ],
 "metadata": {
  "kernelspec": {
   "display_name": "mobileSam",
   "language": "python",
   "name": "python3"
  },
  "language_info": {
   "codemirror_mode": {
    "name": "ipython",
    "version": 3
   },
   "file_extension": ".py",
   "mimetype": "text/x-python",
   "name": "python",
   "nbconvert_exporter": "python",
   "pygments_lexer": "ipython3",
   "version": "3.10.13"
  }
 },
 "nbformat": 4,
 "nbformat_minor": 2
}
